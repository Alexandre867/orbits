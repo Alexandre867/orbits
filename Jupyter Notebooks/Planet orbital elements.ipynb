{
 "cells": [
  {
   "cell_type": "code",
   "execution_count": 2,
   "metadata": {
    "scrolled": true
   },
   "outputs": [
    {
     "name": "stdout",
     "output_type": "stream",
     "text": [
      "Collecting astroquery\n",
      "  Downloading astroquery-0.4.3-py3-none-any.whl (4.4 MB)\n",
      "Requirement already satisfied: keyring>=4.0 in c:\\programdata\\anaconda3\\lib\\site-packages (from astroquery) (21.2.1)\n",
      "Requirement already satisfied: astropy>=3.1.2 in c:\\programdata\\anaconda3\\lib\\site-packages (from astroquery) (4.2)\n",
      "Collecting pyvo>=1.1\n",
      "  Downloading pyvo-1.1-py3-none-any.whl (802 kB)\n",
      "Requirement already satisfied: beautifulsoup4>=4.3.2 in c:\\programdata\\anaconda3\\lib\\site-packages (from astroquery) (4.9.1)\n",
      "Requirement already satisfied: numpy>=1.15.0 in c:\\programdata\\anaconda3\\lib\\site-packages (from astroquery) (1.20.0)\n",
      "Requirement already satisfied: html5lib>=0.999 in c:\\programdata\\anaconda3\\lib\\site-packages (from astroquery) (1.1)\n",
      "Requirement already satisfied: six in c:\\programdata\\anaconda3\\lib\\site-packages (from astroquery) (1.15.0)\n",
      "Requirement already satisfied: requests>=2.4.3 in c:\\programdata\\anaconda3\\lib\\site-packages (from astroquery) (2.24.0)\n",
      "Requirement already satisfied: pywin32-ctypes!=0.1.0,!=0.1.1; sys_platform == \"win32\" in c:\\programdata\\anaconda3\\lib\\site-packages (from keyring>=4.0->astroquery) (0.2.0)\n",
      "Requirement already satisfied: pyerfa in c:\\programdata\\anaconda3\\lib\\site-packages (from astropy>=3.1.2->astroquery) (1.7.1.1)\n",
      "Collecting mimeparse\n",
      "  Downloading mimeparse-0.1.3.tar.gz (4.4 kB)\n",
      "Requirement already satisfied: soupsieve>1.2 in c:\\programdata\\anaconda3\\lib\\site-packages (from beautifulsoup4>=4.3.2->astroquery) (2.0.1)\n",
      "Requirement already satisfied: webencodings in c:\\programdata\\anaconda3\\lib\\site-packages (from html5lib>=0.999->astroquery) (0.5.1)\n",
      "Requirement already satisfied: urllib3!=1.25.0,!=1.25.1,<1.26,>=1.21.1 in c:\\programdata\\anaconda3\\lib\\site-packages (from requests>=2.4.3->astroquery) (1.25.9)\n",
      "Requirement already satisfied: idna<3,>=2.5 in c:\\programdata\\anaconda3\\lib\\site-packages (from requests>=2.4.3->astroquery) (2.10)\n",
      "Requirement already satisfied: chardet<4,>=3.0.2 in c:\\programdata\\anaconda3\\lib\\site-packages (from requests>=2.4.3->astroquery) (3.0.4)\n",
      "Requirement already satisfied: certifi>=2017.4.17 in c:\\programdata\\anaconda3\\lib\\site-packages (from requests>=2.4.3->astroquery) (2020.6.20)\n",
      "Building wheels for collected packages: mimeparse\n",
      "  Building wheel for mimeparse (setup.py): started\n",
      "  Building wheel for mimeparse (setup.py): finished with status 'done'\n",
      "  Created wheel for mimeparse: filename=mimeparse-0.1.3-py3-none-any.whl size=3871 sha256=1665c791739d833ccc891e73ded645658166bfcd2dc7f1caaf49108dbdf954e3\n",
      "  Stored in directory: c:\\users\\alex\\appdata\\local\\pip\\cache\\wheels\\10\\4a\\42\\2f6bad162811fe51b5e3f250cb31c88e0d362b23e873380815\n",
      "Successfully built mimeparse\n",
      "Installing collected packages: mimeparse, pyvo, astroquery\n",
      "Successfully installed astroquery-0.4.3 mimeparse-0.1.3 pyvo-1.1\n"
     ]
    }
   ],
   "source": [
    "!pip3 install astroquery"
   ]
  },
  {
   "cell_type": "code",
   "execution_count": 41,
   "metadata": {
    "scrolled": true
   },
   "outputs": [
    {
     "ename": "ParserError",
     "evalue": "Error tokenizing data. C error: Expected 1 fields in line 7, saw 2\n",
     "output_type": "error",
     "traceback": [
      "\u001b[1;31m---------------------------------------------------------------------------\u001b[0m",
      "\u001b[1;31mParserError\u001b[0m                               Traceback (most recent call last)",
      "\u001b[1;32m<ipython-input-41-7b396322c8a8>\u001b[0m in \u001b[0;36m<module>\u001b[1;34m\u001b[0m\n\u001b[0;32m      2\u001b[0m \u001b[1;32mimport\u001b[0m \u001b[0mpandas\u001b[0m \u001b[1;32mas\u001b[0m \u001b[0mpd\u001b[0m\u001b[1;33m\u001b[0m\u001b[1;33m\u001b[0m\u001b[0m\n\u001b[0;32m      3\u001b[0m \u001b[1;33m\u001b[0m\u001b[0m\n\u001b[1;32m----> 4\u001b[1;33m \u001b[0mVenus\u001b[0m \u001b[1;33m=\u001b[0m \u001b[0mpd\u001b[0m\u001b[1;33m.\u001b[0m\u001b[0mread_csv\u001b[0m\u001b[1;33m(\u001b[0m\u001b[1;34m\"https://ssd.jpl.nasa.gov/api/horizons.api?format=text&COMMAND=%272%27&OBJ_DATA=%27NO%27&EPHEM_TYPE=%27ELEMENTS%27&CENTER=%27500@0%27&START_TIME=%27AD%202021-Nov-22%27&STOP_TIME=%27AD%202021-Nov-23%27&STEP_SIZE=%271d%27&CSV_FORMAT=%27YES%27\"\u001b[0m\u001b[1;33m)\u001b[0m\u001b[1;33m\u001b[0m\u001b[1;33m\u001b[0m\u001b[0m\n\u001b[0m\u001b[0;32m      5\u001b[0m \u001b[1;33m\u001b[0m\u001b[0m\n\u001b[0;32m      6\u001b[0m \u001b[1;31m# \"https://ssd.jpl.nasa.gov/api/horizons.api?format=text&COMMAND='2'&OBJ_DATA='NO'&EPHEM_TYPE='ELEMENTS&CENTER='500@0'&START_TIME='AD 2021-Nov-22'&STOP_TIME='AD 2021-Nov-23'&STEP_SIZE='1d'&CSV_FORMAT='YES'\"\u001b[0m\u001b[1;33m\u001b[0m\u001b[1;33m\u001b[0m\u001b[1;33m\u001b[0m\u001b[0m\n",
      "\u001b[1;32mC:\\ProgramData\\Anaconda3\\lib\\site-packages\\pandas\\io\\parsers.py\u001b[0m in \u001b[0;36mread_csv\u001b[1;34m(filepath_or_buffer, sep, delimiter, header, names, index_col, usecols, squeeze, prefix, mangle_dupe_cols, dtype, engine, converters, true_values, false_values, skipinitialspace, skiprows, skipfooter, nrows, na_values, keep_default_na, na_filter, verbose, skip_blank_lines, parse_dates, infer_datetime_format, keep_date_col, date_parser, dayfirst, cache_dates, iterator, chunksize, compression, thousands, decimal, lineterminator, quotechar, quoting, doublequote, escapechar, comment, encoding, dialect, error_bad_lines, warn_bad_lines, delim_whitespace, low_memory, memory_map, float_precision, storage_options)\u001b[0m\n\u001b[0;32m    603\u001b[0m     \u001b[0mkwds\u001b[0m\u001b[1;33m.\u001b[0m\u001b[0mupdate\u001b[0m\u001b[1;33m(\u001b[0m\u001b[0mkwds_defaults\u001b[0m\u001b[1;33m)\u001b[0m\u001b[1;33m\u001b[0m\u001b[1;33m\u001b[0m\u001b[0m\n\u001b[0;32m    604\u001b[0m \u001b[1;33m\u001b[0m\u001b[0m\n\u001b[1;32m--> 605\u001b[1;33m     \u001b[1;32mreturn\u001b[0m \u001b[0m_read\u001b[0m\u001b[1;33m(\u001b[0m\u001b[0mfilepath_or_buffer\u001b[0m\u001b[1;33m,\u001b[0m \u001b[0mkwds\u001b[0m\u001b[1;33m)\u001b[0m\u001b[1;33m\u001b[0m\u001b[1;33m\u001b[0m\u001b[0m\n\u001b[0m\u001b[0;32m    606\u001b[0m \u001b[1;33m\u001b[0m\u001b[0m\n\u001b[0;32m    607\u001b[0m \u001b[1;33m\u001b[0m\u001b[0m\n",
      "\u001b[1;32mC:\\ProgramData\\Anaconda3\\lib\\site-packages\\pandas\\io\\parsers.py\u001b[0m in \u001b[0;36m_read\u001b[1;34m(filepath_or_buffer, kwds)\u001b[0m\n\u001b[0;32m    461\u001b[0m \u001b[1;33m\u001b[0m\u001b[0m\n\u001b[0;32m    462\u001b[0m     \u001b[1;32mwith\u001b[0m \u001b[0mparser\u001b[0m\u001b[1;33m:\u001b[0m\u001b[1;33m\u001b[0m\u001b[1;33m\u001b[0m\u001b[0m\n\u001b[1;32m--> 463\u001b[1;33m         \u001b[1;32mreturn\u001b[0m \u001b[0mparser\u001b[0m\u001b[1;33m.\u001b[0m\u001b[0mread\u001b[0m\u001b[1;33m(\u001b[0m\u001b[0mnrows\u001b[0m\u001b[1;33m)\u001b[0m\u001b[1;33m\u001b[0m\u001b[1;33m\u001b[0m\u001b[0m\n\u001b[0m\u001b[0;32m    464\u001b[0m \u001b[1;33m\u001b[0m\u001b[0m\n\u001b[0;32m    465\u001b[0m \u001b[1;33m\u001b[0m\u001b[0m\n",
      "\u001b[1;32mC:\\ProgramData\\Anaconda3\\lib\\site-packages\\pandas\\io\\parsers.py\u001b[0m in \u001b[0;36mread\u001b[1;34m(self, nrows)\u001b[0m\n\u001b[0;32m   1050\u001b[0m     \u001b[1;32mdef\u001b[0m \u001b[0mread\u001b[0m\u001b[1;33m(\u001b[0m\u001b[0mself\u001b[0m\u001b[1;33m,\u001b[0m \u001b[0mnrows\u001b[0m\u001b[1;33m=\u001b[0m\u001b[1;32mNone\u001b[0m\u001b[1;33m)\u001b[0m\u001b[1;33m:\u001b[0m\u001b[1;33m\u001b[0m\u001b[1;33m\u001b[0m\u001b[0m\n\u001b[0;32m   1051\u001b[0m         \u001b[0mnrows\u001b[0m \u001b[1;33m=\u001b[0m \u001b[0mvalidate_integer\u001b[0m\u001b[1;33m(\u001b[0m\u001b[1;34m\"nrows\"\u001b[0m\u001b[1;33m,\u001b[0m \u001b[0mnrows\u001b[0m\u001b[1;33m)\u001b[0m\u001b[1;33m\u001b[0m\u001b[1;33m\u001b[0m\u001b[0m\n\u001b[1;32m-> 1052\u001b[1;33m         \u001b[0mindex\u001b[0m\u001b[1;33m,\u001b[0m \u001b[0mcolumns\u001b[0m\u001b[1;33m,\u001b[0m \u001b[0mcol_dict\u001b[0m \u001b[1;33m=\u001b[0m \u001b[0mself\u001b[0m\u001b[1;33m.\u001b[0m\u001b[0m_engine\u001b[0m\u001b[1;33m.\u001b[0m\u001b[0mread\u001b[0m\u001b[1;33m(\u001b[0m\u001b[0mnrows\u001b[0m\u001b[1;33m)\u001b[0m\u001b[1;33m\u001b[0m\u001b[1;33m\u001b[0m\u001b[0m\n\u001b[0m\u001b[0;32m   1053\u001b[0m \u001b[1;33m\u001b[0m\u001b[0m\n\u001b[0;32m   1054\u001b[0m         \u001b[1;32mif\u001b[0m \u001b[0mindex\u001b[0m \u001b[1;32mis\u001b[0m \u001b[1;32mNone\u001b[0m\u001b[1;33m:\u001b[0m\u001b[1;33m\u001b[0m\u001b[1;33m\u001b[0m\u001b[0m\n",
      "\u001b[1;32mC:\\ProgramData\\Anaconda3\\lib\\site-packages\\pandas\\io\\parsers.py\u001b[0m in \u001b[0;36mread\u001b[1;34m(self, nrows)\u001b[0m\n\u001b[0;32m   2054\u001b[0m     \u001b[1;32mdef\u001b[0m \u001b[0mread\u001b[0m\u001b[1;33m(\u001b[0m\u001b[0mself\u001b[0m\u001b[1;33m,\u001b[0m \u001b[0mnrows\u001b[0m\u001b[1;33m=\u001b[0m\u001b[1;32mNone\u001b[0m\u001b[1;33m)\u001b[0m\u001b[1;33m:\u001b[0m\u001b[1;33m\u001b[0m\u001b[1;33m\u001b[0m\u001b[0m\n\u001b[0;32m   2055\u001b[0m         \u001b[1;32mtry\u001b[0m\u001b[1;33m:\u001b[0m\u001b[1;33m\u001b[0m\u001b[1;33m\u001b[0m\u001b[0m\n\u001b[1;32m-> 2056\u001b[1;33m             \u001b[0mdata\u001b[0m \u001b[1;33m=\u001b[0m \u001b[0mself\u001b[0m\u001b[1;33m.\u001b[0m\u001b[0m_reader\u001b[0m\u001b[1;33m.\u001b[0m\u001b[0mread\u001b[0m\u001b[1;33m(\u001b[0m\u001b[0mnrows\u001b[0m\u001b[1;33m)\u001b[0m\u001b[1;33m\u001b[0m\u001b[1;33m\u001b[0m\u001b[0m\n\u001b[0m\u001b[0;32m   2057\u001b[0m         \u001b[1;32mexcept\u001b[0m \u001b[0mStopIteration\u001b[0m\u001b[1;33m:\u001b[0m\u001b[1;33m\u001b[0m\u001b[1;33m\u001b[0m\u001b[0m\n\u001b[0;32m   2058\u001b[0m             \u001b[1;32mif\u001b[0m \u001b[0mself\u001b[0m\u001b[1;33m.\u001b[0m\u001b[0m_first_chunk\u001b[0m\u001b[1;33m:\u001b[0m\u001b[1;33m\u001b[0m\u001b[1;33m\u001b[0m\u001b[0m\n",
      "\u001b[1;32mpandas\\_libs\\parsers.pyx\u001b[0m in \u001b[0;36mpandas._libs.parsers.TextReader.read\u001b[1;34m()\u001b[0m\n",
      "\u001b[1;32mpandas\\_libs\\parsers.pyx\u001b[0m in \u001b[0;36mpandas._libs.parsers.TextReader._read_low_memory\u001b[1;34m()\u001b[0m\n",
      "\u001b[1;32mpandas\\_libs\\parsers.pyx\u001b[0m in \u001b[0;36mpandas._libs.parsers.TextReader._read_rows\u001b[1;34m()\u001b[0m\n",
      "\u001b[1;32mpandas\\_libs\\parsers.pyx\u001b[0m in \u001b[0;36mpandas._libs.parsers.TextReader._tokenize_rows\u001b[1;34m()\u001b[0m\n",
      "\u001b[1;32mpandas\\_libs\\parsers.pyx\u001b[0m in \u001b[0;36mpandas._libs.parsers.raise_parser_error\u001b[1;34m()\u001b[0m\n",
      "\u001b[1;31mParserError\u001b[0m: Error tokenizing data. C error: Expected 1 fields in line 7, saw 2\n"
     ]
    }
   ],
   "source": [
    "import numpy as np\n",
    "import pandas as pd\n",
    "\n",
    "Venus = pd.read_csv(\"https://ssd.jpl.nasa.gov/api/horizons.api?format=text&COMMAND=%272%27&OBJ_DATA=%27NO%27&EPHEM_TYPE=%27ELEMENTS%27&CENTER=%27500@0%27&START_TIME=%27AD%202021-Nov-22%27&STOP_TIME=%27AD%202021-Nov-23%27&STEP_SIZE=%271d%27&CSV_FORMAT=%27YES%27\")\n",
    "\n",
    "# \"https://ssd.jpl.nasa.gov/api/horizons.api?format=text&COMMAND='2'&OBJ_DATA='NO'&EPHEM_TYPE='ELEMENTS&CENTER='500@0'&START_TIME='AD 2021-Nov-22'&STOP_TIME='AD 2021-Nov-23'&STEP_SIZE='1d'&CSV_FORMAT='YES'\"\n",
    "# \"https://ssd.jpl.nasa.gov/api/horizons.api?format=text&COMMAND=%272%27&OBJ_DATA=%27NO%27&EPHEM_TYPE=%27ELEMENTS%27&CENTER=%27500@0%27&START_TIME=%27AD%202021-Nov-22%27&STOP_TIME=%27AD%202021-Nov-23%27&STEP_SIZE=%271d%27&CSV_FORMAT=%27YES%27\""
   ]
  },
  {
   "cell_type": "code",
   "execution_count": 27,
   "metadata": {},
   "outputs": [],
   "source": [
    "from astroquery.jplhorizons import Horizons\n",
    "\n",
    "# obj = Horizons(id='Venus Barycenter', id_type='majorbody', location='500@0', epochs=2459535.5)\n",
    "obj = Horizons(id='Venus Barycenter', id_type='majorbody', location='500@0', epochs={'start':'2021-11-22', 'stop':'2021-11-22 12:00:00', 'step':'1d'})"
   ]
  },
  {
   "cell_type": "code",
   "execution_count": 28,
   "metadata": {},
   "outputs": [
    {
     "name": "stdout",
     "output_type": "stream",
     "text": [
      "JPLHorizons instance \"Venus Barycenter\"; location=500@0, epochs={'start': '2021-11-22', 'stop': '2021-11-22 12:00:00', 'step': '1d'}, id_type=majorbody\n"
     ]
    },
    {
     "data": {
      "text/html": [
       "<i>Table masked=True length=1</i>\n",
       "<table id=\"table1839136769984\" class=\"table-striped table-bordered table-condensed\">\n",
       "<thead><tr><th>targetname</th><th>datetime_jd</th><th>datetime_str</th><th>e</th><th>q</th><th>incl</th><th>Omega</th><th>w</th><th>Tp_jd</th><th>n</th><th>M</th><th>nu</th><th>a</th><th>Q</th><th>P</th></tr></thead>\n",
       "<thead><tr><th>---</th><th>d</th><th>---</th><th>---</th><th>AU</th><th>deg</th><th>deg</th><th>deg</th><th>d</th><th>deg / d</th><th>deg</th><th>deg</th><th>AU</th><th>AU</th><th>d</th></tr></thead>\n",
       "<thead><tr><th>str20</th><th>float64</th><th>str30</th><th>float64</th><th>float64</th><th>float64</th><th>float64</th><th>float64</th><th>float64</th><th>float64</th><th>float64</th><th>float64</th><th>float64</th><th>float64</th><th>float64</th></tr></thead>\n",
       "<tr><td>Venus Barycenter (2)</td><td>2459540.5</td><td>A.D. 2021-Nov-22 00:00:00.0000</td><td>0.0108711075032013</td><td>0.7038429166311668</td><td>3.415556031893589</td><td>76.9679940457345</td><td>152.6985120311389</td><td>2459442.149394527</td><td>1.643082530080794</td><td>161.5981616761</td><td>161.9864037908984</td><td>0.7115785636940585</td><td>0.7193142107569502</td><td>219.1003759149566</td></tr>\n",
       "</table>"
      ],
      "text/plain": [
       "<Table masked=True length=1>\n",
       "     targetname      datetime_jd ...         Q                  P        \n",
       "        ---               d      ...         AU                 d        \n",
       "       str20           float64   ...      float64            float64     \n",
       "-------------------- ----------- ... ------------------ -----------------\n",
       "Venus Barycenter (2)   2459540.5 ... 0.7193142107569502 219.1003759149566"
      ]
     },
     "execution_count": 28,
     "metadata": {},
     "output_type": "execute_result"
    }
   ],
   "source": [
    "print(obj)\n",
    "el = obj.elements()\n",
    "el"
   ]
  },
  {
   "cell_type": "code",
   "execution_count": 29,
   "metadata": {},
   "outputs": [
    {
     "name": "stdout",
     "output_type": "stream",
     "text": [
      "https://ssd.jpl.nasa.gov/horizons_batch.cgi?batch=1&TABLE_TYPE=ELEMENTS&MAKE_EPHEM=YES&OUT_UNITS=AU-D&COMMAND=%22Venus+Barycenter%22&CENTER=%27500%400%27&CSV_FORMAT=YES&ELEM_LABELS=YES&OBJ_DATA=YES&REF_SYSTEM=J2000&REF_PLANE=ECLIPTIC&TP_TYPE=ABSOLUTE&START_TIME=%222021-11-22%22&STOP_TIME=%222021-11-22+12%3A00%3A00%22&STEP_SIZE=%221d%22\n"
     ]
    }
   ],
   "source": [
    "print(obj.uri)"
   ]
  },
  {
   "cell_type": "code",
   "execution_count": 30,
   "metadata": {},
   "outputs": [
    {
     "name": "stdout",
     "output_type": "stream",
     "text": [
      "Venus TL: 31.652909867771825\n"
     ]
    }
   ],
   "source": [
    "print('Venus TL:', (el['Omega'][0]+el['w'][0]+el['nu'][0])%360)"
   ]
  },
  {
   "cell_type": "code",
   "execution_count": 33,
   "metadata": {},
   "outputs": [
    {
     "name": "stdout",
     "output_type": "stream",
     "text": [
      "Earth TL: 60.12756123310328\n"
     ]
    }
   ],
   "source": [
    "# Horizons(id='Earth', id_type='majorbody', location='500@0', epochs={'start':'2021-11-22', 'stop':'2021-11-22 12:00:00', 'step':'1d'}).elements()\n",
    "obj = Horizons(id='3', id_type='majorbody', location='500@0', epochs={'start':'2021-11-22', 'stop':'2021-11-22 12:00:00', 'step':'1d'})\n",
    "el = obj.elements()\n",
    "print('Earth TL:', (el['Omega'][0]+el['w'][0]+el['nu'][0])%360)"
   ]
  },
  {
   "cell_type": "code",
   "execution_count": 6,
   "metadata": {},
   "outputs": [
    {
     "name": "stdout",
     "output_type": "stream",
     "text": [
      "https://ssd.jpl.nasa.gov/horizons_batch.cgi?batch=1&TABLE_TYPE=ELEMENTS&MAKE_EPHEM=YES&OUT_UNITS=AU-D&COMMAND=%223%22&CENTER=%27500%400%27&CSV_FORMAT=YES&ELEM_LABELS=YES&OBJ_DATA=YES&REF_SYSTEM=J2000&REF_PLANE=ECLIPTIC&TP_TYPE=ABSOLUTE&START_TIME=%222021-11-22%22&STOP_TIME=%222021-11-22+12%3A00%3A00%22&STEP_SIZE=%221d%22\n"
     ]
    }
   ],
   "source": [
    "print(obj.uri)"
   ]
  },
  {
   "cell_type": "code",
   "execution_count": 23,
   "metadata": {},
   "outputs": [],
   "source": [
    "import numpy as np\n",
    "import re\n",
    "path=\"https://ssd.jpl.nasa.gov/horizons_batch.cgi?batch=1&TABLE_TYPE=ELEMENTS&MAKE_EPHEM=YES&OUT_UNITS=AU-D&COMMAND=%223%22&CENTER=%27500%400%27&CSV_FORMAT=YES&ELEM_LABELS=YES&OBJ_DATA=YES&REF_SYSTEM=J2000&REF_PLANE=ECLIPTIC&TP_TYPE=ABSOLUTE&START_TIME=%222021-11-22%22&STOP_TIME=%222021-11-22+12%3A00%3A00%22&STEP_SIZE=%221d%22\"\n",
    "Earth_raw=\"\\n\".join(np.loadtxt(path,dtype=str,delimiter=\"`\"))"
   ]
  },
  {
   "cell_type": "code",
   "execution_count": 26,
   "metadata": {},
   "outputs": [
    {
     "ename": "AttributeError",
     "evalue": "'Table' object has no attribute 'uri'",
     "output_type": "error",
     "traceback": [
      "\u001b[1;31m---------------------------------------------------------------------------\u001b[0m",
      "\u001b[1;31mAttributeError\u001b[0m                            Traceback (most recent call last)",
      "\u001b[1;32m<ipython-input-26-ba86898e31e7>\u001b[0m in \u001b[0;36m<module>\u001b[1;34m\u001b[0m\n\u001b[1;32m----> 1\u001b[1;33m \u001b[0mEarth_raw\u001b[0m\u001b[1;33m=\u001b[0m\u001b[1;34m\"\\n\"\u001b[0m\u001b[1;33m.\u001b[0m\u001b[0mjoin\u001b[0m\u001b[1;33m(\u001b[0m\u001b[0mnp\u001b[0m\u001b[1;33m.\u001b[0m\u001b[0mloadtxt\u001b[0m\u001b[1;33m(\u001b[0m\u001b[0mEarth\u001b[0m\u001b[1;33m.\u001b[0m\u001b[0muri\u001b[0m\u001b[1;33m,\u001b[0m\u001b[0mdtype\u001b[0m\u001b[1;33m=\u001b[0m\u001b[0mstr\u001b[0m\u001b[1;33m,\u001b[0m\u001b[0mdelimiter\u001b[0m\u001b[1;33m=\u001b[0m\u001b[1;34m\"`\"\u001b[0m\u001b[1;33m)\u001b[0m\u001b[1;33m)\u001b[0m\u001b[1;33m\u001b[0m\u001b[1;33m\u001b[0m\u001b[0m\n\u001b[0m",
      "\u001b[1;31mAttributeError\u001b[0m: 'Table' object has no attribute 'uri'"
     ]
    }
   ],
   "source": [
    "Earth_raw=\"\\n\".join(np.loadtxt(Earth.uri,dtype=str,delimiter=\"`\"))"
   ]
  },
  {
   "cell_type": "code",
   "execution_count": 25,
   "metadata": {
    "scrolled": true
   },
   "outputs": [
    {
     "name": "stdout",
     "output_type": "stream",
     "text": [
      "*******************************************************************************\n",
      "Revised: April 12, 2021         Earth Barycenter                              3\n",
      " \n",
      " Dynamical point:\n",
      " ---------------\n",
      " The common point about which the Earth and Moon revolve (center of mass). This\n",
      " is approximately 4671 km from the center of the Earth, or about 3/4 of the way \n",
      " to the surface. See 399 for Earth center, or 301 for Moon center ephemeris.\n",
      "*******************************************************************************\n",
      " \n",
      " \n",
      "*******************************************************************************\n",
      "Ephemeris / WWW_USER Fri Nov 19 21:25:33 2021 Pasadena, USA      / Horizons\n",
      "*******************************************************************************\n",
      "Target body name: Earth-Moon Barycenter (3)       {source: DE441}\n",
      "Center body name: Solar System Barycenter (0)     {source: DE441}\n",
      "Center-site name: BODY CENTER\n",
      "*******************************************************************************\n",
      "Start time      : A.D. 2021-Nov-22 00:00:00.0000 TDB\n",
      "Stop  time      : A.D. 2021-Nov-22 12:00:00.0000 TDB\n",
      "Step-size       : 1440 minutes\n",
      "*******************************************************************************\n",
      "Center geodetic : 0.00000000,0.00000000,0.0000000 {E-lon(deg),Lat(deg),Alt(km)}\n",
      "Center cylindric: 0.00000000,0.00000000,0.0000000 {E-lon(deg),Dxy(km),Dz(km)}\n",
      "Center radii    : (undefined)                                                  \n",
      "Keplerian GM    : 2.9630657583935225E-04 au^3/d^2\n",
      "Output units    : AU-D, deg, Julian Day Number (Tp)\n",
      "Output type     : GEOMETRIC osculating elements\n",
      "Output format   : 10\n",
      "Reference frame : Ecliptic of J2000.0\n",
      "*******************************************************************************\n",
      "            JDTDB,            Calendar Date (TDB),                     EC,                     QR,                     IN,                     OM,                      W,                     Tp,                      N,                     MA,                     TA,                      A,                     AD,                     PR,\n",
      "**************************************************************************************************************************************************************************************************************************************************************************************************************************************************\n",
      "$$SOE\n",
      "2459540.500000000, A.D. 2021-Nov-22 00:00:00.0000,  1.006296742752181E-02,  9.863678356945474E-01,  7.236765525223786E-03,  3.248435478548901E+02,  1.103858466966908E+02,  2.459555428645078E+06,  9.916222912015255E-01,  3.451964227637737E+02,  3.448981666815223E+02,  9.963945213074251E-01,  1.006421206920303E+00,  3.630414555967640E+02,\n",
      "$$EOE\n",
      "**************************************************************************************************************************************************************************************************************************************************************************************************************************************************\n",
      " \n",
      "TIME\n",
      "  Barycentric Dynamical Time (\"TDB\" or T_eph) output was requested. This\n",
      "continuous relativistic coordinate time is equivalent to the relativistic\n",
      "proper time of a clock at rest in a reference frame comoving with the\n",
      "solar system barycenter but outside the system's gravity well. It is the\n",
      "independent variable in the solar system relativistic equations of motion.\n",
      "  TDB runs at a uniform rate of one SI second per second and is independent\n",
      "of irregularities in Earth's rotation.\n",
      "  Calendar dates prior to 1582-Oct-15 are in the Julian calendar system.\n",
      "Later calendar dates are in the Gregorian system.\n",
      "REFERENCE FRAME AND COORDINATES\n",
      "  Ecliptic at the standard reference epoch\n",
      "    Reference epoch: J2000.0\n",
      "    X-Y plane: adopted Earth orbital plane at the reference epoch\n",
      "               Note: IAU76 obliquity of 84381.448 arcseconds wrt ICRF X-Y plane\n",
      "    X-axis   : ICRF\n",
      "    Z-axis   : perpendicular to the X-Y plane in the directional (+ or -) sense\n",
      "               of Earth's north pole at the reference epoch.\n",
      "  Symbol meaning [1 au= 149597870.700 km, 1 day= 86400.0 s]:\n",
      "    JDTDB    Julian Day Number, Barycentric Dynamical Time\n",
      "      EC     Eccentricity, e\n",
      "      QR     Periapsis distance, q (au)\n",
      "      IN     Inclination w.r.t X-Y plane, i (degrees)\n",
      "      OM     Longitude of Ascending Node, OMEGA, (degrees)\n",
      "      W      Argument of Perifocus, w (degrees)\n",
      "      Tp     Time of periapsis (Julian Day Number)\n",
      "      N      Mean motion, n (degrees/day)\n",
      "      MA     Mean anomaly, M (degrees)\n",
      "      TA     True anomaly, nu (degrees)\n",
      "      A      Semi-major axis, a (au)\n",
      "      AD     Apoapsis distance (au)\n",
      "      PR     Sidereal orbit period (day)\n",
      "ABERRATIONS AND CORRECTIONS\n",
      " Geometric osculating elements have NO corrections or aberrations applied.\n",
      "Computations by ...\n",
      "    Solar System Dynamics Group, Horizons On-Line Ephemeris System\n",
      "    4800 Oak Grove Drive, Jet Propulsion Laboratory\n",
      "    Pasadena, CA  91109   USA\n",
      "    General site: https://ssd.jpl.nasa.gov/\n",
      "    Mailing list: https://ssd.jpl.nasa.gov/email_list.html\n",
      "    System news : https://ssd.jpl.nasa.gov/horizons/news.html\n",
      "    User Guide  : https://ssd.jpl.nasa.gov/horizons/manual.html\n",
      "    Connect     : browser        https://ssd.jpl.nasa.gov/horizons/app.html\n",
      "                  API            https://ssd-api.jpl.nasa.gov/doc/horizons.html\n",
      "                  command-line   telnet ssd.jpl.nasa.gov 6775\n",
      "                  e-mail/batch   https://ssd.jpl.nasa.gov/ftp/ssd/hrzn_batch.txt\n",
      "                  scripts        https://ssd.jpl.nasa.gov/ftp/ssd/SCRIPTS\n",
      "    Author      : Jon.D.Giorgini@jpl.nasa.gov\n",
      "*******************************************************************************\n",
      "!$$SOF\n",
      "TABLE_TYPE = ELEMENTS\n",
      "MAKE_EPHEM = YES\n",
      "OUT_UNITS = AU-D\n",
      "COMMAND = \"3\"\n",
      "CENTER = '500@0'\n",
      "CSV_FORMAT = YES\n",
      "ELEM_LABELS = YES\n",
      "OBJ_DATA = YES\n",
      "REF_SYSTEM = J2000\n",
      "REF_PLANE = ECLIPTIC\n",
      "TP_TYPE = ABSOLUTE\n",
      "START_TIME = \"2021-11-22\"\n",
      "STOP_TIME = \"2021-11-22 12:00:00\"\n",
      "STEP_SIZE = \"1d\"\n"
     ]
    }
   ],
   "source": [
    "print(Earth_raw)"
   ]
  },
  {
   "cell_type": "markdown",
   "metadata": {},
   "source": [
    "# Now I know a bit more how it works"
   ]
  },
  {
   "cell_type": "code",
   "execution_count": 12,
   "metadata": {
    "scrolled": true
   },
   "outputs": [
    {
     "data": {
      "text/html": [
       "<div>\n",
       "<style scoped>\n",
       "    .dataframe tbody tr th:only-of-type {\n",
       "        vertical-align: middle;\n",
       "    }\n",
       "\n",
       "    .dataframe tbody tr th {\n",
       "        vertical-align: top;\n",
       "    }\n",
       "\n",
       "    .dataframe thead th {\n",
       "        text-align: right;\n",
       "    }\n",
       "</style>\n",
       "<table border=\"1\" class=\"dataframe\">\n",
       "  <thead>\n",
       "    <tr style=\"text-align: right;\">\n",
       "      <th></th>\n",
       "      <th>a</th>\n",
       "      <th>e</th>\n",
       "      <th>i</th>\n",
       "      <th>Omega</th>\n",
       "      <th>omega</th>\n",
       "      <th>f</th>\n",
       "      <th>l</th>\n",
       "      <th>P</th>\n",
       "      <th>mu</th>\n",
       "      <th>n</th>\n",
       "    </tr>\n",
       "  </thead>\n",
       "  <tbody>\n",
       "    <tr>\n",
       "      <th>venus</th>\n",
       "      <td>0.723331</td>\n",
       "      <td>0.006775</td>\n",
       "      <td>3.394497</td>\n",
       "      <td>76.621522</td>\n",
       "      <td>55.145514</td>\n",
       "      <td>189.429246</td>\n",
       "      <td>321.196281</td>\n",
       "      <td>224.700038</td>\n",
       "      <td>0.000296</td>\n",
       "      <td>0.027963</td>\n",
       "    </tr>\n",
       "    <tr>\n",
       "      <th>earth</th>\n",
       "      <td>1.000009</td>\n",
       "      <td>0.016677</td>\n",
       "      <td>0.002767</td>\n",
       "      <td>175.568131</td>\n",
       "      <td>287.433215</td>\n",
       "      <td>272.622754</td>\n",
       "      <td>15.624100</td>\n",
       "      <td>365.261420</td>\n",
       "      <td>0.000296</td>\n",
       "      <td>0.017202</td>\n",
       "    </tr>\n",
       "  </tbody>\n",
       "</table>\n",
       "</div>"
      ],
      "text/plain": [
       "              a         e         i       Omega       omega           f  \\\n",
       "venus  0.723331  0.006775  3.394497   76.621522   55.145514  189.429246   \n",
       "earth  1.000009  0.016677  0.002767  175.568131  287.433215  272.622754   \n",
       "\n",
       "                l           P        mu         n  \n",
       "venus  321.196281  224.700038  0.000296  0.027963  \n",
       "earth   15.624100  365.261420  0.000296  0.017202  "
      ]
     },
     "metadata": {},
     "output_type": "display_data"
    },
    {
     "name": "stdout",
     "output_type": "stream",
     "text": [
      "Data date: A.D. 2021-Oct-09 00:00:00.0000\n",
      "Next opportunity estimate: A.D. 2021-Oct-09 15:20:15.6120\n",
      "Synodic period [days]: 583.9032999848675\n"
     ]
    },
    {
     "data": {
      "text/html": [
       "<div>\n",
       "<style scoped>\n",
       "    .dataframe tbody tr th:only-of-type {\n",
       "        vertical-align: middle;\n",
       "    }\n",
       "\n",
       "    .dataframe tbody tr th {\n",
       "        vertical-align: top;\n",
       "    }\n",
       "\n",
       "    .dataframe thead th {\n",
       "        text-align: right;\n",
       "    }\n",
       "</style>\n",
       "<table border=\"1\" class=\"dataframe\">\n",
       "  <thead>\n",
       "    <tr style=\"text-align: right;\">\n",
       "      <th></th>\n",
       "      <th>a</th>\n",
       "      <th>e</th>\n",
       "      <th>i</th>\n",
       "      <th>Omega</th>\n",
       "      <th>omega</th>\n",
       "      <th>f</th>\n",
       "      <th>l</th>\n",
       "      <th>P</th>\n",
       "    </tr>\n",
       "  </thead>\n",
       "  <tbody>\n",
       "    <tr>\n",
       "      <th>venus</th>\n",
       "      <td>0.723331</td>\n",
       "      <td>0.006775</td>\n",
       "      <td>3.394497</td>\n",
       "      <td>76.621513</td>\n",
       "      <td>55.146165</td>\n",
       "      <td>190.438929</td>\n",
       "      <td>151.245462</td>\n",
       "      <td>224.700067</td>\n",
       "    </tr>\n",
       "    <tr>\n",
       "      <th>earth</th>\n",
       "      <td>1.000009</td>\n",
       "      <td>0.016677</td>\n",
       "      <td>0.002767</td>\n",
       "      <td>175.569028</td>\n",
       "      <td>287.433304</td>\n",
       "      <td>273.252973</td>\n",
       "      <td>37.546571</td>\n",
       "      <td>365.261264</td>\n",
       "    </tr>\n",
       "  </tbody>\n",
       "</table>\n",
       "</div>"
      ],
      "text/plain": [
       "              a         e         i       Omega       omega           f  \\\n",
       "venus  0.723331  0.006775  3.394497   76.621513   55.146165  190.438929   \n",
       "earth  1.000009  0.016677  0.002767  175.569028  287.433304  273.252973   \n",
       "\n",
       "                l           P  \n",
       "venus  151.245462  224.700067  \n",
       "earth   37.546571  365.261264  "
      ]
     },
     "metadata": {},
     "output_type": "display_data"
    }
   ],
   "source": [
    "import numpy as np\n",
    "import pandas as pd\n",
    "import re\n",
    "from astroquery.jplhorizons import Horizons #Install with: !pip3 install astroquery\n",
    "import requests\n",
    "try: from IPython.display import display\n",
    "except: pass\n",
    "\n",
    "date = '2021-10-09'\n",
    "\n",
    "# center = 'Solar System Barycenter'\n",
    "center = '500@10'\n",
    "target = 'Venus Barycenter' #Then referenced as venus/Vénus\n",
    "origin = 'Earth-Moon Barycenter' #Then referenced as earth/Terre\n",
    "\n",
    "req = Horizons(id=target, id_type='majorbody', location=center, epochs={'start':date, 'stop':date+' 12:00:00', 'step':'1d'})\n",
    "Venus = req.elements()\n",
    "Venus_raw = requests.get(req.uri).text\n",
    "\n",
    "req = Horizons(id=origin, id_type='majorbody', location=center, epochs={'start':date, 'stop':date+' 12:00:00', 'step':'1d'})\n",
    "Earth = req.elements()\n",
    "Earth_raw = requests.get(req.uri).text\n",
    "\n",
    "data = pd.DataFrame(index=['Vénus','Terre'],columns=['$\\\\Omega$ [°]','$\\\\omega$ [°]', '$\\nu$ [°]'],dtype=\"float64\")\n",
    "data.loc['Vénus'] = Venus[['Omega','w','nu']][0]\n",
    "data.loc['Terre'] = Earth[['Omega','w','nu']][0]\n",
    "\n",
    "# print(re.sub(r\"\\\\toprule|\\\\midrule|\\\\bottomrule\",r\"\\\\hline\",data.to_latex(index=True,escape=False,column_format='|r|c|c|c|')))\n",
    "\n",
    "data['l'] = data.to_numpy().sum(axis=1)%360\n",
    "data.columns = ['Omega','omega','f','l']\n",
    "data.index = ['venus','earth']\n",
    "data.loc['venus',['a','e','i','P']] = Venus[['a','e','incl','P']][0]\n",
    "data.loc['earth',['a','e','i','P']] = Earth[['a','e','incl','P']][0]\n",
    "data = data.reindex(columns = ['a','e','i','Omega','omega','f','l','P'])\n",
    "data.loc['venus','mu'] = eval(re.search(r\"Keplerian GM.*?(?=\\d)(\\d+\\.?\\d*E[+-]\\d+)\",Venus_raw).group(1))\n",
    "data.loc['earth','mu'] = eval(re.search(r\"Keplerian GM.*?(?=\\d)(\\d+\\.?\\d*E[+-]\\d+)\",Earth_raw).group(1))\n",
    "data['n'] = 2*np.pi/data['P']\n",
    "try: display(data)\n",
    "except: print(data)\n",
    "syn_P = 2*np.pi/abs(data.loc['venus','n']-data.loc['earth','n'])\n",
    "# print(syn_P)\n",
    "TOF = np.pi*np.sqrt(((data['a'].sum()/2)**3)/(data['mu'].sum()/2))\n",
    "# print(TOF)\n",
    "wait = (np.pi - data.loc['venus','n']*TOF - np.deg2rad(data.loc['venus','l']-data.loc['earth','l']))/(data.loc['venus','n']-data.loc['earth','n'])%syn_P\n",
    "# print(wait)\n",
    "epoch = Venus['datetime_jd'][0]+wait\n",
    "\n",
    "req_futur = Horizons(id=target, id_type='majorbody', location=center, epochs=epoch)\n",
    "Venus_futur = req_futur.elements()\n",
    "req_futur = Horizons(id=origin, id_type='majorbody', location=center, epochs=epoch)\n",
    "Earth_futur = req_futur.elements()\n",
    "\n",
    "print('Data date:',Earth['datetime_str'][0])\n",
    "print('Next opportunity estimate:',Earth_futur['datetime_str'][0])#,end=\"\\n\\n\")\n",
    "print('Synodic period [days]:', syn_P)\n",
    "\n",
    "data_futur = pd.DataFrame(index=['Vénus','Terre'],columns=['$\\\\Omega$ [°]','$\\\\omega$ [°]', '$\\nu$ [°]'],dtype=\"float64\")\n",
    "data_futur.loc['Vénus'] = Venus_futur[['Omega','w','nu']][0]\n",
    "data_futur.loc['Terre'] = Earth_futur[['Omega','w','nu']][0]\n",
    "\n",
    "# print(re.sub(r\"\\\\toprule|\\\\midrule|\\\\bottomrule\",r\"\\\\hline\",data_futur.to_latex(index=True,escape=False,column_format='|r|c|c|c|')))\n",
    "\n",
    "data_futur['l'] = data.to_numpy().sum(axis=1)%360\n",
    "data_futur.columns = ['Omega','omega','f','l']\n",
    "data_futur.index = ['venus','earth']\n",
    "data_futur.loc['venus',['a','e','i','P']] = Venus_futur[['a','e','incl','P']][0]\n",
    "data_futur.loc['earth',['a','e','i','P']] = Earth_futur[['a','e','incl','P']][0]\n",
    "data_futur = data_futur.reindex(columns = ['a','e','i','Omega','omega','f','l','P'])\n",
    "try: display(data_futur)\n",
    "except: print(data_futur)"
   ]
  },
  {
   "cell_type": "code",
   "execution_count": 253,
   "metadata": {},
   "outputs": [
    {
     "name": "stdout",
     "output_type": "stream",
     "text": [
      "https://ssd.jpl.nasa.gov/horizons_batch.cgi?batch=1&TABLE_TYPE=ELEMENTS&MAKE_EPHEM=YES&OUT_UNITS=AU-D&COMMAND=%22Earth-Moon+Barycenter%22&CENTER=%27500%4010%27&CSV_FORMAT=NO&ELEM_LABELS=YES&OBJ_DATA=YES&REF_SYSTEM=J2000&REF_PLANE=ECLIPTIC&TP_TYPE=ABSOLUTE&START_TIME=%222021-11-22%22&STOP_TIME=%222021-11-22+12%3A00%3A00%22&STEP_SIZE=%221d%22 \n",
      "\n",
      "https://ssd.jpl.nasa.gov/horizons_batch.cgi?batch=1&TABLE_TYPE=ELEMENTS&MAKE_EPHEM=YES&OUT_UNITS=AU-D&COMMAND=%22Earth-Moon+Barycenter%22&CENTER=%27500%4010%27&CSV_FORMAT=NO&ELEM_LABELS=YES&OBJ_DATA=YES&REF_SYSTEM=J2000&REF_PLANE=ECLIPTIC&TP_TYPE=ABSOLUTE&TLIST=2460083.077753392\n"
     ]
    }
   ],
   "source": [
    "print(re.sub(r\"(?<=CSV_FORMAT=)YES\",\"NO\",req.uri),\"\\n\")\n",
    "print(re.sub(r\"(?<=CSV_FORMAT=)YES\",\"NO\",req_futur.uri))"
   ]
  }
 ],
 "metadata": {
  "kernelspec": {
   "display_name": "Python 3",
   "language": "python",
   "name": "python3"
  },
  "language_info": {
   "codemirror_mode": {
    "name": "ipython",
    "version": 3
   },
   "file_extension": ".py",
   "mimetype": "text/x-python",
   "name": "python",
   "nbconvert_exporter": "python",
   "pygments_lexer": "ipython3",
   "version": "3.8.3"
  }
 },
 "nbformat": 4,
 "nbformat_minor": 4
}
