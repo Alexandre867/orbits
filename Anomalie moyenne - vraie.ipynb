{
 "cells": [
  {
   "cell_type": "code",
   "execution_count": 45,
   "metadata": {},
   "outputs": [
    {
     "name": "stdout",
     "output_type": "stream",
     "text": [
      "\\begin{tabular}{l|l}\n",
      "$E_{0}$ & \\SI{4.808708465814501}{\\radian} \\\\\n",
      "$E_{1}$ & \\SI{4.808554978276398}{\\radian} \\\\\n",
      "$E_{2}$ & \\SI{4.808554978278205}{\\radian} \\\\\n",
      "$E_{3}$ & \\SI{4.808554978278205}{\\radian} \\\\\n",
      "$E_{4}$ & \\SI{4.808554978278205}{\\radian} \\\\\n",
      "$E_{5}$ & \\SI{4.808554978278205}{\\radian} \\\\\n",
      "$E_{6}$ & \\SI{4.808554978278205}{\\radian} \\\\\n",
      "$E_{7}$ & \\SI{4.808554978278205}{\\radian} \\\\\n",
      "$E_{8}$ & \\SI{4.808554978278205}{\\radian} \\\\\n",
      "$E_{9}$ & \\SI{4.808554978278205}{\\radian} \\\\\n",
      "$E_{10}$ & \\SI{4.808554978278205}{\\radian}\n",
      "\\end{tabular}\n",
      "0.09586506354742147\n",
      "\\SI{275.50111155878614}{\\radian}\n"
     ]
    }
   ],
   "source": [
    "import numpy as np\n",
    "\n",
    "M = 275.5187\n",
    "e = 0.0001542\n",
    "form = \"\\SI{%s}{\\\\radian}\"\n",
    "i = 10\n",
    "\n",
    "M = np.deg2rad(M)\n",
    "\n",
    "E = M\n",
    "print(\"\\\\begin{tabular}{l|l}\")\n",
    "\n",
    "for n in range(i):\n",
    "    print(\"$E_{%i}$\" %(n), \"&\", form %((E)),\"\\\\\\\\\")\n",
    "    E = E-(E-e*np.sin(E)-M)/(1-e*np.cos(E))\n",
    "print(\"$E_{%i}$\" %(n+1), \"&\", form %((E)))\n",
    "print(\"\\\\end{tabular}\")\n",
    "\n",
    "nu = (np.cos(E)-e)/(1-e*np.cos(E))\n",
    "print(nu)\n",
    "nu = np.arccos(nu)\n",
    "if M>np.pi: nu = 2*np.pi-nu\n",
    "print(form %(np.rad2deg(nu)))"
   ]
  },
  {
   "cell_type": "code",
   "execution_count": 46,
   "metadata": {},
   "outputs": [
    {
     "name": "stdout",
     "output_type": "stream",
     "text": [
      "\\begin{tabular}{l|l}\n",
      "$E_{0}$ & \\SI{4.808708465814501}{\\radian} \\\\\n",
      "$E_{1}$ & \\SI{4.808554980552542}{\\radian} \\\\\n",
      "$E_{2}$ & \\SI{4.808554978278239}{\\radian} \\\\\n",
      "$E_{3}$ & \\SI{4.808554978278205}{\\radian} \\\\\n",
      "$E_{4}$ & \\SI{4.808554978278205}{\\radian} \\\\\n",
      "$E_{5}$ & \\SI{4.808554978278205}{\\radian} \\\\\n",
      "$E_{6}$ & \\SI{4.808554978278205}{\\radian} \\\\\n",
      "$E_{7}$ & \\SI{4.808554978278205}{\\radian} \\\\\n",
      "$E_{8}$ & \\SI{4.808554978278205}{\\radian} \\\\\n",
      "$E_{9}$ & \\SI{4.808554978278205}{\\radian} \\\\\n",
      "$E_{10}$ & \\SI{4.808554978278205}{\\radian}\n",
      "\\end{tabular}\n"
     ]
    }
   ],
   "source": [
    "import numpy as np\n",
    "\n",
    "M = 275.5187\n",
    "e = 0.0001542\n",
    "form = \"\\SI{%s}{\\\\radian}\"\n",
    "i = 10\n",
    "\n",
    "M = np.deg2rad(M)\n",
    "\n",
    "E = M\n",
    "print(\"\\\\begin{tabular}{l|l}\")\n",
    "\n",
    "for n in range(i):\n",
    "    print(\"$E_{%i}$\" %(n), \"&\", form %((E)),\"\\\\\\\\\")\n",
    "    E = e*np.sin(E)+M\n",
    "print(\"$E_{%i}$\" %(n+1), \"&\", form %((E)))\n",
    "print(\"\\\\end{tabular}\")"
   ]
  },
  {
   "cell_type": "code",
   "execution_count": 38,
   "metadata": {},
   "outputs": [
    {
     "data": {
      "text/plain": [
       "4.808708465814501"
      ]
     },
     "execution_count": 38,
     "metadata": {},
     "output_type": "execute_result"
    }
   ],
   "source": [
    "M"
   ]
  },
  {
   "cell_type": "code",
   "execution_count": 36,
   "metadata": {},
   "outputs": [
    {
     "data": {
      "text/plain": [
       "4.808554978278205"
      ]
     },
     "execution_count": 36,
     "metadata": {},
     "output_type": "execute_result"
    }
   ],
   "source": [
    "# E = M\n",
    "# E = M+e*np.sin(E)\n",
    "E*180/np.pi\n",
    "E"
   ]
  }
 ],
 "metadata": {
  "kernelspec": {
   "display_name": "Python 3",
   "language": "python",
   "name": "python3"
  },
  "language_info": {
   "codemirror_mode": {
    "name": "ipython",
    "version": 3
   },
   "file_extension": ".py",
   "mimetype": "text/x-python",
   "name": "python",
   "nbconvert_exporter": "python",
   "pygments_lexer": "ipython3",
   "version": "3.8.3"
  }
 },
 "nbformat": 4,
 "nbformat_minor": 4
}
